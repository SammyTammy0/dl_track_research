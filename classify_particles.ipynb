{
 "cells": [
  {
   "cell_type": "markdown",
   "metadata": {},
   "source": [
    "# Preprocessing"
   ]
  },
  {
   "cell_type": "code",
   "execution_count": 37,
   "metadata": {},
   "outputs": [
    {
     "name": "stdout",
     "output_type": "stream",
     "text": [
      "Processing time: 0.019951 seconds\n"
     ]
    },
    {
     "data": {
      "text/plain": [
       "(720, 720, 1)"
      ]
     },
     "execution_count": 37,
     "metadata": {},
     "output_type": "execute_result"
    }
   ],
   "source": [
    "import numpy as np\n",
    "from PIL import Image\n",
    "import time\n",
    "\n",
    "def binarize(grayscale, thresh):\n",
    "    return np.where(grayscale > thresh, 1, 0)\n",
    "\n",
    "def get_data_image(filename, bin_thresh=0.85):\n",
    "    img = Image.open(filename).resize((720, 720)).convert(\"LA\")\n",
    "    image = np.asarray(img)/256\n",
    "    binarized = binarize(image, bin_thresh)\n",
    "    ret_img = binarized[:, :, 0:1]\n",
    "    return ret_img\n",
    "\n",
    "start_time = time.time()\n",
    "pp = get_data_image(\"detector_alpha_ve_ca_nm/plots/30.png\", 0.7)\n",
    "end_time = time.time()\n",
    "print(\"Processing time: %f seconds\" % (end_time-start_time))\n",
    "pp.shape"
   ]
  },
  {
   "cell_type": "markdown",
   "metadata": {},
   "source": [
    "# Build model"
   ]
  },
  {
   "cell_type": "code",
   "execution_count": 35,
   "metadata": {},
   "outputs": [],
   "source": [
    "from keras import layers\n",
    "from keras import models\n",
    "from keras import optimizers\n",
    "\n",
    "def build_model():\n",
    "    model = models.Sequential()\n",
    "    model.add(layers.Conv2D(32, (3, 3), activation='relu', input_shape=(720, 720, 1)))\n",
    "    model.add(layers.MaxPooling2D((3, 3)))\n",
    "    model.add(layers.Conv2D(64, (3, 3), activation='relu'))\n",
    "    model.add(layers.MaxPooling2D((3, 3)))\n",
    "    model.add(layers.Flatten())\n",
    "    model.add(layers.Dropout(0.1))\n",
    "    model.add(layers.Dense(64, activation='relu'))\n",
    "    model.add(layers.Dense(1, activation='sigmoid'))\n",
    "    \n",
    "    model.compile(\n",
    "        loss='binary_crossentropy',\n",
    "        optimizer=optimizers.RMSprop(lr=1e-4),\n",
    "        metrics=['acc']\n",
    "\n",
    "    )\n",
    "    return model\n",
    "\n",
    "def other_build_model():\n",
    "    model = models.Sequential()\n",
    "    model.add(layers.Conv2D(16, (3, 3), activation='relu', input_shape=(720, 720, 1)))\n",
    "    model.add(layers.MaxPooling2D((3, 3)))\n",
    "    model.add(layers.Conv2D(32, (3, 3), activation='relu'))\n",
    "    model.add(layers.MaxPooling2D((3, 3)))\n",
    "    model.add(layers.Conv2D(32, (3, 3), activation='relu'))\n",
    "    model.add(layers.MaxPooling2D((3, 3)))\n",
    "    model.add(layers.Flatten())\n",
    "    model.add(layers.Dropout(0.1))\n",
    "    model.add(layers.Dense(64, activation='relu'))\n",
    "    model.add(layers.Dense(8))\n",
    "    model.add(layers.Dense(1, activation='sigmoid'))\n",
    "    \n",
    "    model.compile(\n",
    "        loss='binary_crossentropy',\n",
    "        optimizer=optimizers.RMSprop(lr=1e-4),\n",
    "        metrics=['acc']\n",
    "\n",
    "    )\n",
    "    return model"
   ]
  },
  {
   "cell_type": "code",
   "execution_count": 3,
   "metadata": {},
   "outputs": [
    {
     "name": "stdout",
     "output_type": "stream",
     "text": [
      "Model: \"sequential\"\n",
      "_________________________________________________________________\n",
      "Layer (type)                 Output Shape              Param #   \n",
      "=================================================================\n",
      "conv2d (Conv2D)              (None, 718, 718, 16)      160       \n",
      "_________________________________________________________________\n",
      "max_pooling2d (MaxPooling2D) (None, 239, 239, 16)      0         \n",
      "_________________________________________________________________\n",
      "conv2d_1 (Conv2D)            (None, 237, 237, 32)      4640      \n",
      "_________________________________________________________________\n",
      "max_pooling2d_1 (MaxPooling2 (None, 79, 79, 32)        0         \n",
      "_________________________________________________________________\n",
      "conv2d_2 (Conv2D)            (None, 77, 77, 32)        9248      \n",
      "_________________________________________________________________\n",
      "max_pooling2d_2 (MaxPooling2 (None, 25, 25, 32)        0         \n",
      "_________________________________________________________________\n",
      "flatten (Flatten)            (None, 20000)             0         \n",
      "_________________________________________________________________\n",
      "dropout (Dropout)            (None, 20000)             0         \n",
      "_________________________________________________________________\n",
      "dense (Dense)                (None, 64)                1280064   \n",
      "_________________________________________________________________\n",
      "dense_1 (Dense)              (None, 8)                 520       \n",
      "_________________________________________________________________\n",
      "dense_2 (Dense)              (None, 1)                 9         \n",
      "=================================================================\n",
      "Total params: 1,294,641\n",
      "Trainable params: 1,294,641\n",
      "Non-trainable params: 0\n",
      "_________________________________________________________________\n"
     ]
    }
   ],
   "source": [
    "model = other_build_model()\n",
    "model.summary()"
   ]
  },
  {
   "cell_type": "markdown",
   "metadata": {},
   "source": [
    "# Training"
   ]
  },
  {
   "cell_type": "code",
   "execution_count": 4,
   "metadata": {},
   "outputs": [],
   "source": [
    "dir_suffix=\"ve_va_ym\""
   ]
  },
  {
   "cell_type": "code",
   "execution_count": 5,
   "metadata": {},
   "outputs": [],
   "source": [
    "import tensorflow as tf\n",
    "from keras.utils import Sequence\n",
    "\n",
    "\"\"\"Data generator for Keras\"\"\"\n",
    "class DataGenerator(Sequence):\n",
    "    def __init__(self, list_IDs, labels, batch_size=32, dim=(720,720), n_channels=1,\n",
    "                 n_classes=None, shuffle=True):\n",
    "        self.dim = dim\n",
    "        self.batch_size = batch_size\n",
    "        self.labels = labels\n",
    "        self.list_IDs = list_IDs\n",
    "        self.n_channels = n_channels\n",
    "        self.n_classes = n_classes\n",
    "        self.shuffle = shuffle\n",
    "        self.on_epoch_end()\n",
    "\n",
    "    \"\"\"Returns the # of batches per epoch\"\"\"\n",
    "    def __len__(self):\n",
    "        return int(np.floor(len(self.list_IDs) / self.batch_size))\n",
    "\n",
    "    \"\"\"\n",
    "    Generates a batch of data at a given index\n",
    "    \"\"\"\n",
    "    def __getitem__(self, index):\n",
    "        # Get indices of batch\n",
    "        indexes = self.indexes[index*self.batch_size:(index+1)*self.batch_size]\n",
    "\n",
    "        # Get list of IDs to generate data from\n",
    "        list_IDs_temp = [self.list_IDs[k] for k in indexes]\n",
    "\n",
    "        # Generate data\n",
    "        X, y = self.__data_generation(list_IDs_temp)\n",
    "\n",
    "        return X, y\n",
    "    \n",
    "    \"\"\"Set indices after epoch to randomize data\"\"\"\n",
    "    def on_epoch_end(self):\n",
    "        self.indexes = np.arange(len(self.list_IDs))\n",
    "        if self.shuffle == True:\n",
    "            np.random.shuffle(self.indexes)\n",
    "\n",
    "    \"\"\"\n",
    "    Generate data for a single batch\n",
    "    \"\"\"\n",
    "    def __data_generation(self, list_IDs_temp):\n",
    "        # Initialization\n",
    "        X = np.empty((self.batch_size, *self.dim, self.n_channels))\n",
    "        y = np.empty((self.batch_size), dtype=int)\n",
    "\n",
    "        # Generate data\n",
    "        for i, ID in enumerate(list_IDs_temp):\n",
    "            # Load sample\n",
    "            X[i,] = self.get_data_image(ID)\n",
    "\n",
    "            # Store class\n",
    "            y[i] = self.labels[ID]\n",
    "\n",
    "        return X, y\n",
    "    \n",
    "    def binarize(self, grayscale, thresh):\n",
    "        return np.where(grayscale > thresh, 1, 0)\n",
    "\n",
    "    def get_data_image(self, filename, bin_thresh=0.85):\n",
    "        img = Image.open(filename).resize(self.dim).convert(\"LA\")\n",
    "        image = np.asarray(img)/256\n",
    "        binarized = self.binarize(image, bin_thresh)\n",
    "        ret_img = binarized[:, :, 0:1]\n",
    "        return ret_img"
   ]
  },
  {
   "cell_type": "code",
   "execution_count": 6,
   "metadata": {},
   "outputs": [
    {
     "data": {
      "text/plain": [
       "'detector_alpha_ve_va_ym/plots/500.png'"
      ]
     },
     "execution_count": 6,
     "metadata": {},
     "output_type": "execute_result"
    }
   ],
   "source": [
    "\"\"\"Set up training and validation data\"\"\"\n",
    "train_x =  [\"detector_alpha_%s/plots/%d.png\"     % (dir_suffix, i) for i in range(4000)]\n",
    "train_x += [\"detector_electrons_%s/plots/%d.png\" % (dir_suffix, i) for i in range(4000)]\n",
    "valid_x =  [\"detector_alpha_%s/plots/%d.png\"     % (dir_suffix, i) for i in range(4000,5000)]\n",
    "valid_x += [\"detector_electrons_%s/plots/%d.png\" % (dir_suffix, i) for i in range(4000,5000)]\n",
    "train_x[500]"
   ]
  },
  {
   "cell_type": "code",
   "execution_count": 7,
   "metadata": {},
   "outputs": [],
   "source": [
    "train_label_map = {filename : (1 if filename[9:14]==\"alpha\" else 0) for filename in train_x}\n",
    "valid_label_map = {filename : (1 if filename[9:14]==\"alpha\" else 0) for filename in valid_x}"
   ]
  },
  {
   "cell_type": "code",
   "execution_count": 8,
   "metadata": {},
   "outputs": [],
   "source": [
    "params = {'dim': (720,720),\n",
    "          'batch_size': 16,\n",
    "          'n_classes': 1,\n",
    "          'n_channels': 1,\n",
    "          'shuffle': True}\n",
    "\n",
    "# Set up generators\n",
    "training_generator =   DataGenerator(train_x, train_label_map, **params)\n",
    "validation_generator = DataGenerator(valid_x, valid_label_map, **params)"
   ]
  },
  {
   "cell_type": "code",
   "execution_count": 9,
   "metadata": {},
   "outputs": [
    {
     "name": "stderr",
     "output_type": "stream",
     "text": [
      "c:\\users\\ang79722\\appdata\\local\\programs\\python\\python38\\lib\\site-packages\\tensorflow\\python\\keras\\engine\\training.py:1844: UserWarning: `Model.fit_generator` is deprecated and will be removed in a future version. Please use `Model.fit`, which supports generators.\n",
      "  warnings.warn('`Model.fit_generator` is deprecated and '\n"
     ]
    },
    {
     "name": "stdout",
     "output_type": "stream",
     "text": [
      "Epoch 1/40\n",
      "500/500 [==============================] - 1029s 2s/step - loss: 0.6825 - acc: 0.5352 - val_loss: 0.5797 - val_acc: 0.6880\n",
      "Epoch 2/40\n",
      "500/500 [==============================] - 1106s 2s/step - loss: 0.4871 - acc: 0.7790 - val_loss: 0.2605 - val_acc: 0.9005\n",
      "Epoch 3/40\n",
      "500/500 [==============================] - 1016s 2s/step - loss: 0.2179 - acc: 0.9097 - val_loss: 0.1992 - val_acc: 0.9070\n",
      "Epoch 4/40\n",
      "500/500 [==============================] - 1030s 2s/step - loss: 0.1643 - acc: 0.9198 - val_loss: 0.1617 - val_acc: 0.9155\n",
      "Epoch 5/40\n",
      "500/500 [==============================] - 1032s 2s/step - loss: 0.1472 - acc: 0.9268 - val_loss: 0.1585 - val_acc: 0.9200\n",
      "Epoch 6/40\n",
      "500/500 [==============================] - 1022s 2s/step - loss: 0.1372 - acc: 0.9273 - val_loss: 0.1564 - val_acc: 0.9205\n",
      "Epoch 7/40\n",
      "500/500 [==============================] - 1022s 2s/step - loss: 0.1343 - acc: 0.9312 - val_loss: 0.1429 - val_acc: 0.9215\n",
      "Epoch 8/40\n",
      "500/500 [==============================] - 1036s 2s/step - loss: 0.1188 - acc: 0.9398 - val_loss: 0.1453 - val_acc: 0.9210\n",
      "Epoch 9/40\n",
      "500/500 [==============================] - 1040s 2s/step - loss: 0.1181 - acc: 0.9425 - val_loss: 0.1494 - val_acc: 0.9205\n",
      "Epoch 10/40\n",
      "500/500 [==============================] - 1053s 2s/step - loss: 0.1157 - acc: 0.9370 - val_loss: 0.1437 - val_acc: 0.9235\n",
      "Epoch 11/40\n",
      "500/500 [==============================] - 1060s 2s/step - loss: 0.1051 - acc: 0.9437 - val_loss: 0.1296 - val_acc: 0.9325\n",
      "Epoch 12/40\n",
      "500/500 [==============================] - 1059s 2s/step - loss: 0.0996 - acc: 0.9503 - val_loss: 0.1376 - val_acc: 0.9310\n",
      "Epoch 13/40\n",
      "500/500 [==============================] - 1056s 2s/step - loss: 0.1069 - acc: 0.9450 - val_loss: 0.1425 - val_acc: 0.9240\n",
      "Epoch 14/40\n",
      "500/500 [==============================] - 1064s 2s/step - loss: 0.1028 - acc: 0.9489 - val_loss: 0.1484 - val_acc: 0.9270\n",
      "Epoch 15/40\n",
      "500/500 [==============================] - 1057s 2s/step - loss: 0.0954 - acc: 0.9526 - val_loss: 0.1403 - val_acc: 0.9295\n",
      "Epoch 16/40\n",
      "500/500 [==============================] - 1060s 2s/step - loss: 0.0941 - acc: 0.9542 - val_loss: 0.1386 - val_acc: 0.9290\n",
      "Epoch 17/40\n",
      "500/500 [==============================] - 1056s 2s/step - loss: 0.0949 - acc: 0.9517 - val_loss: 0.1439 - val_acc: 0.9280\n",
      "Epoch 18/40\n",
      "500/500 [==============================] - 1056s 2s/step - loss: 0.0956 - acc: 0.9543 - val_loss: 0.1397 - val_acc: 0.9310\n",
      "Epoch 19/40\n",
      "500/500 [==============================] - 1051s 2s/step - loss: 0.0935 - acc: 0.9566 - val_loss: 0.1305 - val_acc: 0.9295\n",
      "Epoch 20/40\n",
      "500/500 [==============================] - 1041s 2s/step - loss: 0.0886 - acc: 0.9584 - val_loss: 0.1297 - val_acc: 0.9320\n",
      "Epoch 21/40\n",
      "500/500 [==============================] - 1051s 2s/step - loss: 0.0889 - acc: 0.9601 - val_loss: 0.1375 - val_acc: 0.9255\n",
      "Epoch 22/40\n",
      "500/500 [==============================] - 1048s 2s/step - loss: 0.0882 - acc: 0.9564 - val_loss: 0.1346 - val_acc: 0.9390\n",
      "Epoch 23/40\n",
      "500/500 [==============================] - 1050s 2s/step - loss: 0.0931 - acc: 0.9572 - val_loss: 0.1384 - val_acc: 0.9265\n",
      "Epoch 24/40\n",
      "500/500 [==============================] - 1048s 2s/step - loss: 0.0893 - acc: 0.9559 - val_loss: 0.1356 - val_acc: 0.9325\n",
      "Epoch 25/40\n",
      "500/500 [==============================] - 1047s 2s/step - loss: 0.0891 - acc: 0.9575 - val_loss: 0.1400 - val_acc: 0.9355\n",
      "Epoch 26/40\n",
      "500/500 [==============================] - 1046s 2s/step - loss: 0.0853 - acc: 0.9604 - val_loss: 0.1390 - val_acc: 0.9345\n",
      "Epoch 27/40\n",
      "500/500 [==============================] - 1046s 2s/step - loss: 0.0839 - acc: 0.9639 - val_loss: 0.1421 - val_acc: 0.9360\n",
      "Epoch 28/40\n",
      "500/500 [==============================] - 1056s 2s/step - loss: 0.0804 - acc: 0.9643 - val_loss: 0.1370 - val_acc: 0.9295\n",
      "Epoch 29/40\n",
      "500/500 [==============================] - 1056s 2s/step - loss: 0.0813 - acc: 0.9598 - val_loss: 0.1415 - val_acc: 0.9360\n",
      "Epoch 30/40\n",
      "500/500 [==============================] - 1050s 2s/step - loss: 0.0801 - acc: 0.9584 - val_loss: 0.1452 - val_acc: 0.9360\n",
      "Epoch 31/40\n",
      "500/500 [==============================] - 1109s 2s/step - loss: 0.0870 - acc: 0.9608 - val_loss: 0.1506 - val_acc: 0.9400\n",
      "Epoch 32/40\n",
      "500/500 [==============================] - 1497s 3s/step - loss: 0.0852 - acc: 0.9598 - val_loss: 0.1611 - val_acc: 0.9300\n",
      "Epoch 33/40\n",
      "500/500 [==============================] - 1498s 3s/step - loss: 0.0796 - acc: 0.9638 - val_loss: 0.2241 - val_acc: 0.9200\n",
      "Epoch 34/40\n",
      "500/500 [==============================] - 1512s 3s/step - loss: 0.0751 - acc: 0.9628 - val_loss: 0.1426 - val_acc: 0.9280\n",
      "Epoch 35/40\n",
      "500/500 [==============================] - 1531s 3s/step - loss: 0.0779 - acc: 0.9633 - val_loss: 0.1545 - val_acc: 0.9375\n",
      "Epoch 36/40\n",
      "500/500 [==============================] - 1559s 3s/step - loss: 0.0767 - acc: 0.9630 - val_loss: 0.1369 - val_acc: 0.9350\n",
      "Epoch 37/40\n",
      "500/500 [==============================] - 1696s 3s/step - loss: 0.0774 - acc: 0.9643 - val_loss: 0.1593 - val_acc: 0.9360\n",
      "Epoch 38/40\n",
      "500/500 [==============================] - 1128s 2s/step - loss: 0.0785 - acc: 0.9640 - val_loss: 0.1534 - val_acc: 0.9340\n",
      "Epoch 39/40\n",
      "500/500 [==============================] - 1016s 2s/step - loss: 0.0756 - acc: 0.9683 - val_loss: 0.1475 - val_acc: 0.9305\n",
      "Epoch 40/40\n",
      "500/500 [==============================] - 1118s 2s/step - loss: 0.0745 - acc: 0.9652 - val_loss: 0.1460 - val_acc: 0.9270\n"
     ]
    }
   ],
   "source": [
    "# Fit!\n",
    "model = other_build_model()\n",
    "history = model.fit_generator(generator=training_generator,\n",
    "                    validation_data=validation_generator,\n",
    "                    verbose=True,\n",
    "                    epochs=40)"
   ]
  },
  {
   "cell_type": "code",
   "execution_count": 17,
   "metadata": {},
   "outputs": [],
   "source": [
    "hist_dict = history.history"
   ]
  },
  {
   "cell_type": "code",
   "execution_count": 27,
   "metadata": {},
   "outputs": [
    {
     "data": {
      "image/png": "[encoded data removed]",
      "text/plain": [
       "<Figure size 432x288 with 1 Axes>"
      ]
     },
     "metadata": {
      "needs_background": "light"
     },
     "output_type": "display_data"
    }
   ],
   "source": [
    "import matplotlib.pyplot as plt\n",
    "\n",
    "plt.xlabel(\"Epochs\")\n",
    "plt.ylabel(\"Loss\")\n",
    "epochs=range(1,len(hist_dict[\"loss\"])+1)\n",
    "plt.plot(epochs, hist_dict[\"loss\"], \"bo\", label=\"Training loss\")\n",
    "plt.plot(epochs, hist_dict[\"val_loss\"], \"b\", label=\"Validation loss\")\n",
    "plt.title(\"Loss values\")\n",
    "plt.legend()\n",
    "plt.savefig(\"%s_loss.png\" % (dir_suffix))"
   ]
  },
  {
   "cell_type": "code",
   "execution_count": 26,
   "metadata": {},
   "outputs": [
    {
     "data": {
      "image/png": "[encoded data removed]",
      "text/plain": [
       "<Figure size 432x288 with 1 Axes>"
      ]
     },
     "metadata": {
      "needs_background": "light"
     },
     "output_type": "display_data"
    }
   ],
   "source": [
    "import matplotlib.pyplot as plt\n",
    "\n",
    "plt.xlabel(\"Epochs\")\n",
    "plt.ylabel(\"Accuracy\")\n",
    "epochs=range(1,len(hist_dict[\"acc\"])+1)\n",
    "plt.plot(epochs, hist_dict[\"acc\"], \"bo\", label=\"Training accuracy\")\n",
    "plt.plot(epochs, hist_dict[\"val_acc\"], \"b\", label=\"Validation accuracy\")\n",
    "plt.title(\"Accuracy\")\n",
    "plt.legend()\n",
    "plt.savefig(\"%s_accuracy.png\" % (dir_suffix))"
   ]
  },
  {
   "cell_type": "code",
   "execution_count": 14,
   "metadata": {},
   "outputs": [],
   "source": [
    "model.save(\"ve_va_ym_model.h5\")"
   ]
  },
  {
   "cell_type": "code",
   "execution_count": 48,
   "metadata": {},
   "outputs": [],
   "source": [
    "prediction = model.predict(np.asarray([get_data_image(\"detector_alpha_%s/plots/4651.png\" % (dir_suffix), bin_thresh=0.85)]))"
   ]
  },
  {
   "cell_type": "code",
   "execution_count": 49,
   "metadata": {},
   "outputs": [
    {
     "data": {
      "text/plain": [
       "array([[1.]], dtype=float32)"
      ]
     },
     "execution_count": 49,
     "metadata": {},
     "output_type": "execute_result"
    }
   ],
   "source": [
    "prediction"
   ]
  },
  {
   "cell_type": "code",
   "execution_count": null,
   "metadata": {},
   "outputs": [],
   "source": []
  }
 ],
 "metadata": {
  "kernelspec": {
   "display_name": "Python 3",
   "language": "python",
   "name": "python3"
  },
  "language_info": {
   "codemirror_mode": {
    "name": "ipython",
    "version": 3
   },
   "file_extension": ".py",
   "mimetype": "text/x-python",
   "name": "python",
   "nbconvert_exporter": "python",
   "pygments_lexer": "ipython3",
   "version": "3.7.6"
  }
 },
 "nbformat": 4,
 "nbformat_minor": 4
}
