{
 "cells": [
  {
   "cell_type": "code",
   "execution_count": 1,
   "metadata": {},
   "outputs": [],
   "source": [
    "from Data import Mgdraw"
   ]
  },
  {
   "cell_type": "code",
   "execution_count": 2,
   "metadata": {},
   "outputs": [],
   "source": [
    "\"\"\"\n",
    "Function which returns mgdraw data as a list of trajectories.\n",
    "Each trajectory in trajs is a list of points\n",
    "\"\"\"\n",
    "def get_mgdraw(infile, seg_amt=1000, particle_type=None):\n",
    "    particle_types = {}\n",
    "    mgdraw_reader = Mgdraw(filename=infile)\n",
    "    trajs = []\n",
    "    current_traj = []\n",
    "    last = (-100, -100, -100)\n",
    "    for i in range(seg_amt):\n",
    "        # Hold new event data\n",
    "        res=mgdraw_reader.readEvent()\n",
    "        if res==0: # Track data\n",
    "            particle_code = mgdraw_reader.jtrack\n",
    "            if particle_type!=None and particle_code!=particle_type: continue # Wrong particle\n",
    "            # Current segment\n",
    "            seg = []\n",
    "            for i in range(mgdraw_reader.ntrack):\n",
    "                seg.append(mgdraw_reader.data[3*i:3*i+3]) # x-y-z\n",
    "            \n",
    "            # Count particle types\n",
    "            if particle_code not in particle_types.keys():\n",
    "                particle_types[particle_code] = 0\n",
    "            particle_types[particle_code] += 1\n",
    "            \n",
    "            # Seg is part of a new trajectory.\n",
    "            if last[0] != -100 and last != seg[0]:\n",
    "                trajs.append([seg for seg in current_traj+[last]])\n",
    "                current_traj = []\n",
    "                last = (-100, -100, -100)\n",
    "\n",
    "            for point in seg:\n",
    "                current_traj.append(point)\n",
    "            # Used to check for track data continuity\n",
    "            last = mgdraw_reader.data[3*mgdraw_reader.ntrack:3*mgdraw_reader.ntrack+3]\n",
    "    trajs.append(current_traj)\n",
    "    mgdraw_reader.close()\n",
    "    return trajs\n",
    "\n",
    "\"\"\"\n",
    "Same as get_mgdraw but \n",
    "\"\"\"\n",
    "def gen_get_mgdraw(infile, seg_amt=1000, particle_type=None):\n",
    "    particle_types = {}\n",
    "    mgdraw_reader = Mgdraw(filename=infile)\n",
    "    current_traj = []\n",
    "    last = (-100, -100, -100)\n",
    "    for i in range(seg_amt):\n",
    "        # Hold new event data\n",
    "        res=mgdraw_reader.readEvent()\n",
    "        if res==0: # Track data\n",
    "            particle_code = mgdraw_reader.jtrack\n",
    "            if particle_type!=None and particle_code!=particle_type: continue # Wrong particle\n",
    "            # Current segment\n",
    "            seg = []\n",
    "            for i in range(mgdraw_reader.ntrack):\n",
    "                seg.append(mgdraw_reader.data[3*i:3*i+3]) # x-y-z\n",
    "            \n",
    "            # Count particle types\n",
    "            if particle_code not in particle_types.keys():\n",
    "                particle_types[particle_code] = 0\n",
    "            particle_types[particle_code] += 1\n",
    "            \n",
    "            # Seg is part of a new trajectory.\n",
    "            if last[0] != -100 and last != seg[0]:\n",
    "                yield [seg for seg in current_traj+[last]]\n",
    "                current_traj = []\n",
    "                last = (-100, -100, -100)\n",
    "\n",
    "            for point in seg:\n",
    "                current_traj.append(point)\n",
    "            # Used to check for track data continuity\n",
    "            last = mgdraw_reader.data[3*mgdraw_reader.ntrack:3*mgdraw_reader.ntrack+3]\n",
    "    mgdraw_reader.close()"
   ]
  },
  {
   "cell_type": "code",
   "execution_count": 3,
   "metadata": {},
   "outputs": [],
   "source": [
    "import matplotlib.pyplot as plt\n",
    "import numpy as np"
   ]
  },
  {
   "cell_type": "code",
   "execution_count": 26,
   "metadata": {},
   "outputs": [],
   "source": [
    "infile=\"detector_electrons_ce_ca_nm/events\"\n",
    "particle_code = 3\n",
    "\n",
    "gen_trajs = gen_get_mgdraw(infile, seg_amt=10000000, particle_type=particle_code)\n",
    "num_trajs = 0"
   ]
  },
  {
   "cell_type": "code",
   "execution_count": 18,
   "metadata": {},
   "outputs": [],
   "source": [
    "# Get plot ranges\n",
    "maxZ=-10000\n",
    "minZ=10000\n",
    "maxX=-10000\n",
    "minX=10000\n",
    "maxY=-10000\n",
    "minY=10000\n",
    "while True:\n",
    "    try:\n",
    "        traj = next(gen_trajs)\n",
    "        arr_traj = np.asarray(traj)\n",
    "        maxX = max(np.max(arr_traj[:,0]), maxX)\n",
    "        minX = min(np.min(arr_traj[:,0]), minX)\n",
    "        maxY = max(np.max(arr_traj[:,1]), maxY)\n",
    "        minY = min(np.min(arr_traj[:,1]), minY)\n",
    "        maxZ = max(np.max(arr_traj[:,2]), maxZ)\n",
    "        minZ = min(np.min(arr_traj[:,2]), minZ)\n",
    "        num_trajs += 1\n",
    "    except StopIteration:\n",
    "        break"
   ]
  },
  {
   "cell_type": "code",
   "execution_count": 19,
   "metadata": {},
   "outputs": [
    {
     "data": {
      "text/plain": [
       "20161"
      ]
     },
     "execution_count": 19,
     "metadata": {},
     "output_type": "execute_result"
    }
   ],
   "source": [
    "num_trajs"
   ]
  },
  {
   "cell_type": "code",
   "execution_count": 20,
   "metadata": {},
   "outputs": [
    {
     "name": "stdout",
     "output_type": "stream",
     "text": [
      "9.999992370605469\n",
      "-9.993762969970703\n",
      "9.995387077331543\n",
      "-9.999991416931152\n",
      "95.0\n",
      "0.0\n"
     ]
    }
   ],
   "source": [
    "print(maxX)\n",
    "print(minX)\n",
    "print(maxY)\n",
    "print(minY)\n",
    "print(maxZ)\n",
    "print(minZ)"
   ]
  },
  {
   "cell_type": "code",
   "execution_count": 21,
   "metadata": {},
   "outputs": [
    {
     "data": {
      "image/png": "[encoded data removed]",
      "text/plain": [
       "<Figure size 720x720 with 1 Axes>"
      ]
     },
     "metadata": {
      "needs_background": "light"
     },
     "output_type": "display_data"
    }
   ],
   "source": [
    "trajs = get_mgdraw(infile, seg_amt=10000, particle_type=particle_code)\n",
    "# All plot\n",
    "plt.figure(figsize=(10, 10))\n",
    "plt.axis(\"off\")\n",
    "plt.xlim([min(minZ, minX), max(maxZ, maxX)])\n",
    "plt.ylim([min(minZ, minX), max(maxZ, maxX)])\n",
    "for traj in trajs:\n",
    "    arr_traj = np.asarray(traj)\n",
    "    plt.plot(arr_traj[:,2], arr_traj[:,1])\n",
    "plt.savefig(infile[:-7]+\"/all_plots\")"
   ]
  },
  {
   "cell_type": "code",
   "execution_count": 22,
   "metadata": {},
   "outputs": [],
   "source": [
    "trajs=[]"
   ]
  },
  {
   "cell_type": "code",
   "execution_count": 1,
   "metadata": {},
   "outputs": [
    {
     "ename": "NameError",
     "evalue": "name 'gen_get_mgdraw' is not defined",
     "output_type": "error",
     "traceback": [
      "\u001b[0;31m---------------------------------------------------------------------------\u001b[0m",
      "\u001b[0;31mNameError\u001b[0m                                 Traceback (most recent call last)",
      "\u001b[0;32m<ipython-input-1-e6923197252d>\u001b[0m in \u001b[0;36m<module>\u001b[0;34m\u001b[0m\n\u001b[1;32m      2\u001b[0m \u001b[0mi\u001b[0m\u001b[0;34m=\u001b[0m\u001b[0;36m0\u001b[0m\u001b[0;34m\u001b[0m\u001b[0;34m\u001b[0m\u001b[0m\n\u001b[1;32m      3\u001b[0m \u001b[0;34m\u001b[0m\u001b[0m\n\u001b[0;32m----> 4\u001b[0;31m \u001b[0mgen_trajs\u001b[0m \u001b[0;34m=\u001b[0m \u001b[0mgen_get_mgdraw\u001b[0m\u001b[0;34m(\u001b[0m\u001b[0minfile\u001b[0m\u001b[0;34m,\u001b[0m \u001b[0mseg_amt\u001b[0m\u001b[0;34m=\u001b[0m\u001b[0;36m10000000\u001b[0m\u001b[0;34m,\u001b[0m \u001b[0mparticle_type\u001b[0m\u001b[0;34m=\u001b[0m\u001b[0mparticle_code\u001b[0m\u001b[0;34m)\u001b[0m\u001b[0;34m\u001b[0m\u001b[0;34m\u001b[0m\u001b[0m\n\u001b[0m\u001b[1;32m      5\u001b[0m \u001b[0;34m\u001b[0m\u001b[0m\n\u001b[1;32m      6\u001b[0m \u001b[0;32mwhile\u001b[0m \u001b[0;32mFalse\u001b[0m\u001b[0;34m:\u001b[0m\u001b[0;34m\u001b[0m\u001b[0;34m\u001b[0m\u001b[0m\n",
      "\u001b[0;31mNameError\u001b[0m: name 'gen_get_mgdraw' is not defined"
     ]
    }
   ],
   "source": [
    "# Save single plots\n",
    "i=0\n",
    "\n",
    "gen_trajs = gen_get_mgdraw(infile, seg_amt=10000000, particle_type=particle_code)\n",
    "\n",
    "while True:\n",
    "    try:\n",
    "        traj = next(gen_trajs)\n",
    "        if i%1000==0: print(\"\\n\"+str(i), end=\": \")\n",
    "        if i%100==0: print(\"#\", end=\"\")\n",
    "        # Plot settings\n",
    "        plt.figure(figsize=(10, 10))\n",
    "        plt.axis(\"off\")\n",
    "        plt.ylim([min(minX, minZ), max(maxX, maxZ)])\n",
    "        plt.xlim([min(minX, minZ), max(maxX, maxZ)])\n",
    "        # Plot trajectory\n",
    "        arr_traj = np.asarray(traj)\n",
    "        plt.plot(arr_traj[:,2], arr_traj[:, 0])\n",
    "        # Save \n",
    "        plt.savefig(infile[:-7]+\"/plots/\"+str(i))\n",
    "        i+=1\n",
    "        plt.clf()\n",
    "        plt.close()\n",
    "    except StopIteration:\n",
    "        break\n",
    "    "
   ]
  },
  {
   "cell_type": "code",
   "execution_count": null,
   "metadata": {},
   "outputs": [],
   "source": []
  }
 ],
 "metadata": {
  "kernelspec": {
   "display_name": "Python 3",
   "language": "python",
   "name": "python3"
  },
  "language_info": {
   "codemirror_mode": {
    "name": "ipython",
    "version": 3
   },
   "file_extension": ".py",
   "mimetype": "text/x-python",
   "name": "python",
   "nbconvert_exporter": "python",
   "pygments_lexer": "ipython3",
   "version": "3.7.6"
  }
 },
 "nbformat": 4,
 "nbformat_minor": 4
}
